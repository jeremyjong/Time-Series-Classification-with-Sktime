{
 "cells": [
  {
   "cell_type": "code",
   "execution_count": 1,
   "metadata": {},
   "outputs": [],
   "source": [
    "import pandas as pd\n",
    "import glob\n",
    "import matplotlib.pyplot as plt\n",
    "import numpy as np\n",
    "from sklearn.model_selection import train_test_split\n",
    "from sktime.datatypes._panel._convert import from_2d_array_to_nested\n",
    "from sklearn.ensemble import RandomForestClassifier\n",
    "from sktime.classification.kernel_based import RocketClassifier\n",
    "from sklearn.metrics import accuracy_score\n",
    "from sktime.transformations.panel.tsfresh import TSFreshFeatureExtractor\n",
    "from sklearn.pipeline import Pipeline\n",
    "from sktime.classification.interval_based import (\n",
    "    CanonicalIntervalForest,\n",
    "    DrCIF,\n",
    "    RandomIntervalSpectralEnsemble,\n",
    "    SupervisedTimeSeriesForest,\n",
    "    TimeSeriesForestClassifier,\n",
    ")\n",
    "from sklearn import metrics\n",
    "from sktime.transformations.panel.reduce import Tabularizer\n",
    "from sklearn.pipeline import make_pipeline\n",
    "\n",
    "%matplotlib inline"
   ]
  },
  {
   "cell_type": "code",
   "execution_count": 2,
   "metadata": {},
   "outputs": [],
   "source": [
    "#CSV読み込み；全データをデータフレームのまとめる\n",
    "path = '.\\\\dataset'\n",
    "\n",
    "all_files = glob.glob(path + \"\\\\**\\\\*.csv\")\n",
    "\n",
    "li = []\n",
    "\n",
    "for filename in all_files:\n",
    "    df = pd.read_csv(filename, index_col=None, header=None,usecols=[2])\n",
    "    li.append(df)\n",
    "\n",
    "X_df = pd.concat(li, axis=1, ignore_index=True)\n",
    "X_df = X_df.T\n",
    "Y_df =np.array([0,0,0,0,0,0,0,0,0,0,1,1,1,1,1,1,1,1,1,1])"
   ]
  },
  {
   "cell_type": "code",
   "execution_count": 3,
   "metadata": {},
   "outputs": [
    {
     "name": "stdout",
     "output_type": "stream",
     "text": [
      "X Y shape = 20 20\n"
     ]
    }
   ],
   "source": [
    "print(\"X Y shape = \" + str(X_df.shape[0]) + \" \" + str(len(Y_df)))"
   ]
  },
  {
   "cell_type": "code",
   "execution_count": 4,
   "metadata": {},
   "outputs": [
    {
     "data": {
      "text/plain": [
       "[<matplotlib.lines.Line2D at 0x250c5b03cc0>]"
      ]
     },
     "execution_count": 4,
     "metadata": {},
     "output_type": "execute_result"
    },
    {
     "data": {
      "image/png": "[encoded data removed]",
      "text/plain": [
       "<Figure size 1080x360 with 2 Axes>"
      ]
     },
     "metadata": {
      "needs_background": "light"
     },
     "output_type": "display_data"
    }
   ],
   "source": [
    "##MATPLOTLIB\n",
    "fig = plt.figure(figsize=[15,5])\n",
    "fig.add_subplot(1, 2, 1)\n",
    "plt.title(\"NG\")\n",
    "plt.plot(X_df.T[0])\n",
    "\n",
    "fig.add_subplot(1, 2, 2)\n",
    "plt.title(\"OK\")\n",
    "plt.plot(X_df.T[12])\n"
   ]
  },
  {
   "cell_type": "code",
   "execution_count": 5,
   "metadata": {},
   "outputs": [],
   "source": [
    "X_df_tab = from_2d_array_to_nested(X_df)"
   ]
  },
  {
   "cell_type": "code",
   "execution_count": 6,
   "metadata": {},
   "outputs": [
    {
     "name": "stdout",
     "output_type": "stream",
     "text": [
      "(15, 1) (15,) (5, 1) (5,)\n"
     ]
    }
   ],
   "source": [
    "X_train, X_test, y_train, y_test = train_test_split(X_df_tab, Y_df)\n",
    "print(X_train.shape, y_train.shape, X_test.shape, y_test.shape)"
   ]
  },
  {
   "cell_type": "code",
   "execution_count": 7,
   "metadata": {},
   "outputs": [
    {
     "name": "stdout",
     "output_type": "stream",
     "text": [
      "RandomForestClassification Accuracy: 1.0\n"
     ]
    }
   ],
   "source": [
    "classifier = make_pipeline(Tabularizer(), RandomForestClassifier())\n",
    "classifier.fit(X_train, y_train)\n",
    "classifier.score(X_test, y_test)\n",
    "\n",
    "classifier_preds = classifier.predict(X_test)\n",
    "print(\"RandomForestClassification Accuracy: \" + str(metrics.accuracy_score(y_test, classifier_preds)))\n"
   ]
  },
  {
   "cell_type": "code",
   "execution_count": 8,
   "metadata": {},
   "outputs": [
    {
     "name": "stdout",
     "output_type": "stream",
     "text": [
      "Rocket Accuracy: 1.0\n"
     ]
    }
   ],
   "source": [
    "rocket = RocketClassifier()\n",
    "rocket.fit(X_train, y_train)\n",
    "rocket.score(X_test, y_test)\n",
    "\n",
    "rocket_preds = rocket.predict(X_test)\n",
    "print(\"Rocket Accuracy: \" + str(metrics.accuracy_score(y_test, rocket_preds)))"
   ]
  },
  {
   "cell_type": "code",
   "execution_count": 10,
   "metadata": {},
   "outputs": [
    {
     "name": "stderr",
     "output_type": "stream",
     "text": [
      "Feature Extraction: 100%|██████████| 5/5 [00:03<00:00,  1.57it/s]\n",
      "Feature Extraction: 100%|██████████| 5/5 [00:03<00:00,  1.57it/s]\n",
      "Feature Extraction: 100%|██████████| 5/5 [00:03<00:00,  1.60it/s]"
     ]
    },
    {
     "name": "stdout",
     "output_type": "stream",
     "text": [
      "Feature Classifier Accuracy: 1.0\n"
     ]
    },
    {
     "name": "stderr",
     "output_type": "stream",
     "text": [
      "\n"
     ]
    }
   ],
   "source": [
    "tsfresh = TSFreshFeatureExtractor(default_fc_parameters=\"minimal\")\n",
    "randf = RandomForestClassifier(n_estimators=100)\n",
    "fclassifier = Pipeline(\n",
    "    [\n",
    "        (\"transform\", tsfresh),\n",
    "        (\"classifier\", randf),\n",
    "    ]\n",
    ")\n",
    "fclassifier.fit(X_train, y_train)\n",
    "fclassifier.score(X_test, y_test)\n",
    "\n",
    "fclassifier_preds = fclassifier.predict(X_test)\n",
    "print(\"Feature Classifier Accuracy: \" + str(metrics.accuracy_score(y_test, fclassifier_preds)))"
   ]
  },
  {
   "cell_type": "code",
   "execution_count": 11,
   "metadata": {},
   "outputs": [
    {
     "name": "stdout",
     "output_type": "stream",
     "text": [
      "TSF Accuracy: 1.0\n"
     ]
    }
   ],
   "source": [
    "tsf = TimeSeriesForestClassifier(n_estimators=50, random_state=47)\n",
    "tsf.fit(X_train, y_train)\n",
    "tsf.score(X_test, y_test)\n",
    "\n",
    "tsf_preds = tsf.predict(X_test)\n",
    "print(\"TSF Accuracy: \" + str(metrics.accuracy_score(y_test, tsf_preds)))"
   ]
  },
  {
   "cell_type": "code",
   "execution_count": 12,
   "metadata": {},
   "outputs": [
    {
     "name": "stdout",
     "output_type": "stream",
     "text": [
      "RISE Accuracy: 1.0\n"
     ]
    }
   ],
   "source": [
    "rise = RandomIntervalSpectralEnsemble(n_estimators=50, random_state=47)\n",
    "rise.fit(X_train, y_train)\n",
    "\n",
    "rise_preds = rise.predict(X_test)\n",
    "print(\"RISE Accuracy: \" + str(metrics.accuracy_score(y_test, rise_preds)))"
   ]
  },
  {
   "cell_type": "code",
   "execution_count": 13,
   "metadata": {},
   "outputs": [
    {
     "name": "stdout",
     "output_type": "stream",
     "text": [
      "STSF Accuracy: 1.0\n"
     ]
    }
   ],
   "source": [
    "stsf = SupervisedTimeSeriesForest(n_estimators=50, random_state=47)\n",
    "stsf.fit(X_train, y_train)\n",
    "\n",
    "stsf_preds = stsf.predict(X_test)\n",
    "print(\"STSF Accuracy: \" + str(metrics.accuracy_score(y_test, stsf_preds)))"
   ]
  },
  {
   "cell_type": "code",
   "execution_count": null,
   "metadata": {},
   "outputs": [],
   "source": []
  }
 ],
 "metadata": {
  "interpreter": {
   "hash": "585665d25dd9f1e2e44b95f78e502e498d3288c3b1c836866961017bccf17d6c"
  },
  "kernelspec": {
   "display_name": "Python 3.7.10 64-bit ('sktime': conda)",
   "language": "python",
   "name": "python3"
  },
  "language_info": {
   "codemirror_mode": {
    "name": "ipython",
    "version": 3
   },
   "file_extension": ".py",
   "mimetype": "text/x-python",
   "name": "python",
   "nbconvert_exporter": "python",
   "pygments_lexer": "ipython3",
   "version": "3.6.13"
  },
  "orig_nbformat": 2
 },
 "nbformat": 4,
 "nbformat_minor": 2
}
